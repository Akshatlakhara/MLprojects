{
  "nbformat": 4,
  "nbformat_minor": 0,
  "metadata": {
    "colab": {
      "name": "housepricepred.ipynb",
      "provenance": [],
      "collapsed_sections": []
    },
    "kernelspec": {
      "name": "python3",
      "display_name": "Python 3"
    },
    "language_info": {
      "name": "python"
    }
  },
  "cells": [
    {
      "cell_type": "code",
      "metadata": {
        "id": "eppC8fY9vGO-"
      },
      "source": [
        "#XGBoost model"
      ],
      "execution_count": null,
      "outputs": []
    },
    {
      "cell_type": "code",
      "metadata": {
        "id": "mnIIQnTpWN7b"
      },
      "source": [
        "import pandas as pd\n",
        "import numpy as np\n",
        "from sklearn.model_selection import train_test_split\n",
        "import matplotlib.pyplot as plt\n",
        "import seaborn as sns\n",
        "import sklearn.datasets\n",
        "from xgboost import XGBRegressor\n",
        "from sklearn import metrics\n",
        "from sklearn.metrics import accuracy_score"
      ],
      "execution_count": null,
      "outputs": []
    },
    {
      "cell_type": "markdown",
      "metadata": {
        "id": "dKJq4YvLYj_V"
      },
      "source": [
        "Importing the House price dataset\n"
      ]
    },
    {
      "cell_type": "code",
      "metadata": {
        "id": "-QLOPkcyXgwn"
      },
      "source": [
        "dataset = sklearn.datasets.load_boston()"
      ],
      "execution_count": null,
      "outputs": []
    },
    {
      "cell_type": "code",
      "metadata": {
        "id": "sw_2gmHSZTPp"
      },
      "source": [
        "print(dataset)"
      ],
      "execution_count": null,
      "outputs": []
    },
    {
      "cell_type": "code",
      "metadata": {
        "id": "w4vlH_guZZmz"
      },
      "source": [
        "# To pandas dataframe\n",
        "dataframe = pd.DataFrame(dataset.data,columns = dataset.feature_names)"
      ],
      "execution_count": null,
      "outputs": []
    },
    {
      "cell_type": "code",
      "metadata": {
        "id": "lEmy6kTNz7Q-"
      },
      "source": [
        "dataframe.head()"
      ],
      "execution_count": null,
      "outputs": []
    },
    {
      "cell_type": "code",
      "metadata": {
        "id": "QGndwhuz1ygB"
      },
      "source": [
        "dataframe.describe()"
      ],
      "execution_count": null,
      "outputs": []
    },
    {
      "cell_type": "code",
      "metadata": {
        "id": "uOHd-H2s105S"
      },
      "source": [
        "#add the target (price) column to the dataframe\n",
        "\n",
        "dataframe[\"price\"] = dataset.target"
      ],
      "execution_count": null,
      "outputs": []
    },
    {
      "cell_type": "code",
      "metadata": {
        "id": "XswpnqQf2zyS"
      },
      "source": [
        "dataframe.head()"
      ],
      "execution_count": null,
      "outputs": []
    },
    {
      "cell_type": "code",
      "metadata": {
        "id": "t29Av-5e22nq"
      },
      "source": [
        "# checking the number of rows and columns in the dataframe\n",
        "dataframe.shape"
      ],
      "execution_count": null,
      "outputs": []
    },
    {
      "cell_type": "code",
      "metadata": {
        "id": "L2bGPeBS3Ej6"
      },
      "source": [
        "# checking for missing values and optimising it \n",
        "\n",
        "dataframe.isnull().sum()\n",
        "#no missing values"
      ],
      "execution_count": null,
      "outputs": []
    },
    {
      "cell_type": "code",
      "metadata": {
        "id": "HjZDDlIm3ZGx"
      },
      "source": [
        "# statistical measures of the dataset\n",
        "dataframe.describe()"
      ],
      "execution_count": null,
      "outputs": []
    },
    {
      "cell_type": "code",
      "metadata": {
        "id": "v92o2wh-3rQt"
      },
      "source": [
        "# understanding correlation between various features in the dataset(positive and negative)\n",
        "\n",
        "correlation = dataframe.corr()"
      ],
      "execution_count": null,
      "outputs": []
    },
    {
      "cell_type": "code",
      "metadata": {
        "id": "evehKT4G4Q6S"
      },
      "source": [
        "print(correlation)"
      ],
      "execution_count": null,
      "outputs": []
    },
    {
      "cell_type": "code",
      "metadata": {
        "id": "26QJbjgr4Stq"
      },
      "source": [
        "# heatmap to understand the correlation\n",
        "\n",
        "plt.figure(figsize = (10,10))\n",
        "sns.heatmap(correlation,cbar = True , square = True , fmt =\".1f\" , annot = True, annot_kws = {\"size\":8},cmap =\"Blues\")"
      ],
      "execution_count": null,
      "outputs": []
    },
    {
      "cell_type": "code",
      "metadata": {
        "id": "mcjwZbwL4-gX"
      },
      "source": [
        "# Splitting the data and Target\n",
        "\n",
        "X = dataframe.drop([\"price\"],axis = 1)\n",
        "Y = dataframe[\"price\"]"
      ],
      "execution_count": null,
      "outputs": []
    },
    {
      "cell_type": "code",
      "metadata": {
        "id": "_ojNoZ8e6Uae"
      },
      "source": [
        "print(X)"
      ],
      "execution_count": null,
      "outputs": []
    },
    {
      "cell_type": "code",
      "metadata": {
        "id": "vcroJxg46XH6"
      },
      "source": [
        "print(Y)"
      ],
      "execution_count": null,
      "outputs": []
    },
    {
      "cell_type": "code",
      "metadata": {
        "id": "wcIq6QtQ6ZaA"
      },
      "source": [
        "X_train, X_test,Y_train,Y_test = train_test_split(X,Y,test_size = 0.1,random_state = 1)"
      ],
      "execution_count": null,
      "outputs": []
    },
    {
      "cell_type": "code",
      "metadata": {
        "id": "qONJBLQD6v35"
      },
      "source": [
        "print(X.shape,X_train.shape,X_test.shape)"
      ],
      "execution_count": null,
      "outputs": []
    },
    {
      "cell_type": "markdown",
      "metadata": {
        "id": "_WF4qSex8EQv"
      },
      "source": [
        "Training the model"
      ]
    },
    {
      "cell_type": "markdown",
      "metadata": {
        "id": "qbgTu4Sh8IwG"
      },
      "source": [
        "XGBoost Regressor"
      ]
    },
    {
      "cell_type": "code",
      "metadata": {
        "id": "vqiKzP7A7054"
      },
      "source": [
        "# loading the model\n",
        "model = XGBRegressor()\n",
        "\n",
        "model.fit(X_train,Y_train)\n",
        "prediction = model.predict(X_test)"
      ],
      "execution_count": null,
      "outputs": []
    },
    {
      "cell_type": "code",
      "metadata": {
        "id": "R2_N5q2P8pAQ"
      },
      "source": [
        "prediction"
      ],
      "execution_count": null,
      "outputs": []
    },
    {
      "cell_type": "markdown",
      "metadata": {
        "id": "5aVlO_n99MVj"
      },
      "source": [
        "Prediction"
      ]
    },
    {
      "cell_type": "markdown",
      "metadata": {
        "id": "6LOeGVPuAs9U"
      },
      "source": [
        "prediction on training data"
      ]
    },
    {
      "cell_type": "code",
      "metadata": {
        "id": "SzFwd2zw8rSO"
      },
      "source": [
        "training_data_pred = model.predict(X_train)"
      ],
      "execution_count": null,
      "outputs": []
    },
    {
      "cell_type": "code",
      "metadata": {
        "id": "AW1gm7-J8_cT"
      },
      "source": [
        "print(training_data_pred)"
      ],
      "execution_count": null,
      "outputs": []
    },
    {
      "cell_type": "code",
      "metadata": {
        "id": "k9_hzxAXA8k8"
      },
      "source": [
        "#R square error\n",
        "score_1 = metrics.r2_score(Y_train,training_data_pred)\n",
        "\n",
        "#mean absolute error\n",
        "score_2 = metrics.mean_absolute_error(Y_train,training_data_pred)\n",
        "\n",
        "print(\"R square error:\",score_1)\n",
        "print(\"Mean Absolute error:\",score_2)"
      ],
      "execution_count": null,
      "outputs": []
    },
    {
      "cell_type": "markdown",
      "metadata": {
        "id": "iCIqf6hZCms3"
      },
      "source": [
        "prediction on test data"
      ]
    },
    {
      "cell_type": "code",
      "metadata": {
        "id": "i0awmL_DCHyC"
      },
      "source": [
        "#R square error\n",
        "score_3 = metrics.r2_score(Y_test,prediction)\n",
        "\n",
        "#Mean absolute error\n",
        "score_4 = metrics.mean_absolute_error(Y_test,prediction)"
      ],
      "execution_count": null,
      "outputs": []
    },
    {
      "cell_type": "code",
      "metadata": {
        "id": "YgO6z6oxDDqf"
      },
      "source": [
        "print(\"R square error:\",score_3)\n",
        "print(\"Mean Absolute error\",score_4)"
      ],
      "execution_count": null,
      "outputs": []
    },
    {
      "cell_type": "code",
      "metadata": {
        "id": "PpxpL3dRDWO7"
      },
      "source": [
        "plt.scatter(Y_train,training_data_pred)\n",
        "plt.xlabel(\"Actual Price\")\n",
        "plt.ylabel(\"predicted price\")\n",
        "plt.title(\"actual v/s predicted price\")\n",
        "plt.show()"
      ],
      "execution_count": null,
      "outputs": []
    },
    {
      "cell_type": "code",
      "metadata": {
        "id": "Xm2C_QkHEHRl"
      },
      "source": [
        "plt.scatter(Y_test,prediction)\n",
        "plt.xlabel(\"Actual Price\")\n",
        "plt.ylabel(\"predicted price\")\n",
        "plt.title(\"actual v/s predicted price\")\n",
        "plt.show()"
      ],
      "execution_count": null,
      "outputs": []
    }
  ]
}